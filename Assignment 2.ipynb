{
 "cells": [
  {
   "cell_type": "code",
   "execution_count": 1,
   "id": "0f61e21f",
   "metadata": {},
   "outputs": [
    {
     "name": "stdout",
     "output_type": "stream",
     "text": [
      "2D Array:\n",
      "[[6 5 7 7 9]\n",
      " [6 8 4 3 1]\n",
      " [8 6 8 8 8]\n",
      " [9 4 7 8 1]]\n",
      "\n",
      "Maximum value of the entire array: 9\n",
      "\n",
      "Mean of the array: 6.15\n",
      "Standard deviation of the array: 2.372235232855292\n"
     ]
    }
   ],
   "source": [
    "# 1. Create a 2D numpy array of size 4x5 with random integers between 1 and 10. Find the maximum value of the entire array.\n",
    "\n",
    "import numpy as np\n",
    "\n",
    "# Create a 2D numpy array of size 4x5 with random integers between 1 and 10\n",
    "array_2d = np.random.randint(1, 11, size=(4, 5))\n",
    "\n",
    "print(\"2D Array:\")\n",
    "print(array_2d)\n",
    "\n",
    "# Maximum value of the entire array\n",
    "max_value = np.max(array_2d)\n",
    "\n",
    "print(\"\\nMaximum value of the entire array:\", max_value)\n",
    "\n",
    "# Mean and Standard deviation\n",
    "mean_value = np.mean(array_2d)\n",
    "std_deviation = np.std(array_2d)\n",
    "\n",
    "print(\"\\nMean of the array:\", mean_value)\n",
    "print(\"Standard deviation of the array:\", std_deviation)\n"
   ]
  },
  {
   "cell_type": "code",
   "execution_count": null,
   "id": "741a4407",
   "metadata": {},
   "outputs": [],
   "source": [
    "# 2. Create a 1D numpy array of size 20 with random floats between 0 and 1. Reshape the array into a 4x5 matrix. \n",
    "# Compute the mean of each row.\n",
    "\n",
    "import numpy as np\n",
    "\n",
    "# Numpy array of size 20 with random floats between 0 and 1\n",
    "array_1d = np.random.rand(20)\n",
    "\n",
    "# Reshape the array into a 4x5 matrix\n",
    "array_2d = array_1d.reshape(4, 5)\n",
    "\n",
    "print(\"Reshaped 2D Array:\")\n",
    "print(array_2d)\n",
    "\n",
    "# Compute the mean of each row\n",
    "row_means = np.mean(array_2d, axis=1)\n",
    "\n",
    "print(\"\\nMean of each row:\")\n",
    "print(row_means)\n"
   ]
  },
  {
   "cell_type": "code",
   "execution_count": null,
   "id": "0a6e0bd3",
   "metadata": {},
   "outputs": [],
   "source": [
    "# 3. Create a 2D numpy array of size 5x5 with random integers between 1 and 100. Compute standard deviation of each column.\n",
    "\n",
    "import numpy as np\n",
    "\n",
    "# 2D numpy array of size 5x5 with random integers between 1 and 100\n",
    "array_2d = np.random.randint(1, 101, size=(5, 5))\n",
    "\n",
    "print(\"2D Array:\")\n",
    "print(array_2d)\n",
    "\n",
    "# Compute the standard deviation of each column\n",
    "column_std_deviation = np.std(array_2d, axis=0)\n",
    "\n",
    "print(\"\\nStandard deviation of each column:\")\n",
    "print(column_std_deviation)\n"
   ]
  },
  {
   "cell_type": "code",
   "execution_count": null,
   "id": "dd0ba9e1",
   "metadata": {},
   "outputs": [],
   "source": [
    "# 4. Create a 1D numpy array of size 15 with random floats between -10 and 10. \n",
    "# Replace all negative values with their absolute values.\n",
    "import numpy as np\n",
    "\n",
    "# numpy array of size 15 with random floats between -10 and 10\n",
    "array_1d = np.random.uniform(-10, 10, 15)\n",
    "\n",
    "print(\"Original 1D Array:\")\n",
    "print(array_1d)\n",
    "\n",
    "# Replace negative values with their absolute values\n",
    "array_1d = np.abs(array_1d)\n",
    "\n",
    "print(\"\\nArray after replacing negative values with their absolute values:\")\n",
    "print(array_1d)\n"
   ]
  },
  {
   "cell_type": "code",
   "execution_count": null,
   "id": "537a91e2",
   "metadata": {},
   "outputs": [],
   "source": [
    "# 5.Create a 2D numpy array of size 3x4 with random integers between 1 and 100. \n",
    "# Calculate the sum of all elements in the array.\n",
    "\n",
    "import numpy as np\n",
    "\n",
    "#2D numpy array of size 3x4 with random integers between 1 and 100\n",
    "array_2d = np.random.randint(1, 101, size=(3, 4))\n",
    "\n",
    "print(\"2D Array:\")\n",
    "print(array_2d)\n",
    "\n",
    "# Calculate the sum of all elements in the array\n",
    "array_sum = np.sum(array_2d)\n",
    "\n",
    "print(\"\\nSum of all elements in the array:\", array_sum)\n"
   ]
  },
  {
   "cell_type": "code",
   "execution_count": null,
   "id": "956f0810",
   "metadata": {},
   "outputs": [],
   "source": [
    "# 7. Create a 2D numpy array of size 4x6 with random floats between 0 and 1. \n",
    "# Normalize each column by subtracting the column mean and dividing by the column standard deviation.\n",
    "\n",
    "# Import numpy library\n",
    "import numpy as np\n",
    "\n",
    "# 2D numpy array of size 4x6 with random floats between 0 and 1\n",
    "arr = np.random.rand(4, 6)\n",
    "\n",
    "# Normalize each column by subtracting the column mean and dividing by the column standard deviation\n",
    "arr = (arr - arr.mean(axis=0)) / arr.std(axis=0)\n",
    "\n",
    "# Print the resulting array\n",
    "print(arr)\n"
   ]
  },
  {
   "cell_type": "code",
   "execution_count": null,
   "id": "14ed0127",
   "metadata": {},
   "outputs": [],
   "source": [
    "# 8. Create a 2D numpy array of size 10x10 with random integers between 1 and 100. \n",
    "# Replace all values greater than 50 with 1 and all other values with 0.\n",
    "\n",
    "\n",
    "import numpy as np\n",
    "\n",
    "# 2D numpy array of size 10x10 with random integers between 1 and 100\n",
    "arr = np.random.randint(1, 101, size=(10, 10))\n",
    "\n",
    "# Replace all values greater than 50 with 1 and all other values with 0\n",
    "arr = np.where(arr > 50, 1, 0)\n",
    "\n",
    "# Print the resulting array\n",
    "print(arr)\n",
    "\n"
   ]
  },
  {
   "cell_type": "code",
   "execution_count": null,
   "id": "98a50041",
   "metadata": {},
   "outputs": [],
   "source": [
    "# 9. Create a 1D numpy array of size 50 with random floats between 0 and 1.\n",
    "# Find the number of elements greater than 0.5.\n",
    "\n",
    "\n",
    "import numpy as np\n",
    "\n",
    "# numpy array of size 50 with random floats between 0 and 1\n",
    "arr = np.random.rand(50)\n",
    "\n",
    "# Find the number of elements greater than 0.5\n",
    "count = np.count_nonzero(arr > 0.5)\n",
    "\n",
    "# Print the resulting number\n",
    "print(count)\n"
   ]
  },
  {
   "cell_type": "code",
   "execution_count": null,
   "id": "8db58a91",
   "metadata": {},
   "outputs": [],
   "source": [
    "# 10. Create a 2D numpy array of size 5x5 with random floats between -1 and 1. \n",
    "# Find the absolute difference between the maximum and minimum values in each row.\n",
    "\n",
    "import numpy as np\n",
    "\n",
    "# numpy array of size 5x5 with random floats between -1 and 1\n",
    "arr = np.random.uniform(-1, 1, size=(5, 5))\n",
    "\n",
    "# Find the absolute difference between the maximum and minimum values in each row\n",
    "diff = np.abs(arr.max(axis=1) - arr.min(axis=1))\n",
    "\n",
    "# Print the resulting array\n",
    "print(diff)\n"
   ]
  },
  {
   "cell_type": "code",
   "execution_count": 1,
   "id": "fbd90f12",
   "metadata": {},
   "outputs": [
    {
     "name": "stdout",
     "output_type": "stream",
     "text": [
      "     farm_name  farm_lon  farm_lat  temperature  precipitation soil_type\n",
      "0       Farm 1   -102.52     51.83         28.7           46.6     brown\n",
      "1       Farm 2   -102.41     52.00         30.1           46.1     brown\n",
      "2       Farm 3   -103.52     50.32         30.6           86.3     brown\n",
      "3       Farm 4   -102.75     51.29         29.0           78.2      gray\n",
      "4       Farm 5   -100.15     51.72         24.5           86.3     black\n",
      "..         ...       ...       ...          ...            ...       ...\n",
      "995   Farm 996   -103.33     50.69         25.9           60.1      None\n",
      "996   Farm 997   -100.80     51.43         30.1           64.9     brown\n",
      "997   Farm 998   -103.56     51.09         32.2           69.2     black\n",
      "998   Farm 999   -101.31     51.50         23.3           49.8     black\n",
      "999  Farm 1000   -101.96     51.98         18.5           57.1     brown\n",
      "\n",
      "[1000 rows x 6 columns]\n",
      "    farm_name  farm_lon  farm_lat  temperature  precipitation   soil_type\n",
      "0      Farm 1   -102.52     51.83         28.7           46.6       brown\n",
      "1      Farm 2   -102.41     52.00         30.1           46.1       brown\n",
      "2      Farm 3   -103.52     50.32         30.6           86.3       brown\n",
      "3      Farm 4   -102.75     51.29         29.0           78.2        gray\n",
      "4      Farm 5   -100.15     51.72         24.5           86.3       black\n",
      "..        ...       ...       ...          ...            ...         ...\n",
      "994  Farm 995   -103.80     50.82         23.0           43.2  dark brown\n",
      "995  Farm 996   -103.33     50.69         25.9           60.1        None\n",
      "996  Farm 997   -100.80     51.43         30.1           64.9       brown\n",
      "997  Farm 998   -103.56     51.09         32.2           69.2       black\n",
      "998  Farm 999   -101.31     51.50         23.3           49.8       black\n",
      "\n",
      "[859 rows x 6 columns]\n"
     ]
    }
   ],
   "source": [
    "##Pandas\n",
    "# 1.Select the rows where the temperature is above 20 degrees Celsius.\n",
    "\n",
    "#Farm data\n",
    "import random\n",
    "import pandas as pd\n",
    "\n",
    "# Define the range for longitude and latitude\n",
    "lon_range = (-105, -100)\n",
    "lat_range = (50, 52)\n",
    "\n",
    "# Define the list of soil types\n",
    "soil_types = ['black', 'gray', 'dark brown', 'brown', None]\n",
    "\n",
    "# Create an empty list to store the farms\n",
    "farms = []\n",
    "\n",
    "# Generate 40 farms\n",
    "for i in range(1000):\n",
    "    farm = {\n",
    "        'farm_name': f'Farm {i+1}',\n",
    "        'farm_lon': round(random.uniform(lon_range[0], lon_range[1]), 2),\n",
    "        'farm_lat': round(random.uniform(lat_range[0], lat_range[1]), 2),\n",
    "        'temperature': round(random.uniform(18, 33), 1),\n",
    "        'precipitation': round(random.uniform(20, 90), 1),\n",
    "        'soil_type': random.choice(soil_types)\n",
    "    }\n",
    "    farms.append(farm)\n",
    "\n",
    "## MY CODE\n",
    "\n",
    "# Create DataFrame from the list of dictionaries\n",
    "df = pd.DataFrame(farms)\n",
    "\n",
    "# Display the DataFrame\n",
    "print(df)\n",
    "\n",
    "## Rows where the temperature is above 20 degrees Celsius.\n",
    "selected_rows = df[df['temperature'] > 20]\n",
    "print(selected_rows)\n",
    "\n"
   ]
  },
  {
   "cell_type": "code",
   "execution_count": 2,
   "id": "0689db7f",
   "metadata": {},
   "outputs": [
    {
     "name": "stdout",
     "output_type": "stream",
     "text": [
      "    farm_name  farm_lon  farm_lat  temperature  precipitation   soil_type\n",
      "26    Farm 27   -103.41     50.98         19.0           89.9  dark brown\n",
      "741  Farm 742   -104.77     51.23         26.4           89.9        None\n",
      "615  Farm 616   -103.91     50.91         30.7           89.8       black\n",
      "991  Farm 992   -102.88     51.34         32.7           89.8       brown\n",
      "753  Farm 754   -103.64     50.41         19.4           89.7        None\n",
      "..        ...       ...       ...          ...            ...         ...\n",
      "571  Farm 572   -102.01     51.39         21.2           20.3       black\n",
      "246  Farm 247   -104.57     50.20         22.3           20.2       brown\n",
      "842  Farm 843   -104.80     50.63         20.0           20.2       black\n",
      "881  Farm 882   -103.09     51.11         31.7           20.2        None\n",
      "423  Farm 424   -100.21     50.54         19.7           20.1        None\n",
      "\n",
      "[1000 rows x 6 columns]\n"
     ]
    }
   ],
   "source": [
    "## 2. Sort the DataFrame by precipitation in descending order.\n",
    "\n",
    "\n",
    "## MY CODE\n",
    "\n",
    "# Create DataFrame from the list of dictionaries\n",
    "df = pd.DataFrame(farms)\n",
    "\n",
    "# Sorting in descending order\n",
    "sorted_df = df.sort_values(by='precipitation', ascending=False)\n",
    "# Display the sorted DataFrame\n",
    "print(sorted_df)"
   ]
  },
  {
   "cell_type": "code",
   "execution_count": null,
   "id": "e2df6c1d",
   "metadata": {},
   "outputs": [],
   "source": [
    "# 3. Filter the DataFrame to include only the farms located within latitude (51.15 & 51.00) range.\n",
    "\n",
    "## MY CODE\n",
    "\n",
    "# Create DataFrame from the list of dictionaries\n",
    "df = pd.DataFrame(farms)\n",
    "\n",
    "##Filtering - farms located within latitude (51.15 & 51.00) range\n",
    "\n",
    "filtered_df = df[(df['farm_lat'] >= 51.00) & (df['farm_lat'] <= 51.15)]\n",
    "\n",
    "# Display the filtered DataFrame\n",
    "print(filtered_df)"
   ]
  },
  {
   "cell_type": "code",
   "execution_count": null,
   "id": "6534649a",
   "metadata": {},
   "outputs": [],
   "source": [
    "## 4.Calculate the standard deviation of precipitation for each soil type.\n",
    "\n",
    "\n",
    "## MY CODE\n",
    "\n",
    "# Create DataFrame from the list of dictionaries\n",
    "df = pd.DataFrame(farms)\n",
    "\n",
    "##Calculating the standard deviation of precipitation for each soil type\n",
    "\n",
    "std_precipitation_by_soil_type = df.groupby('soil_type')['precipitation'].std()\n",
    "print(std_precipitation_by_soil_type)"
   ]
  },
  {
   "cell_type": "code",
   "execution_count": null,
   "id": "b0f7557b",
   "metadata": {},
   "outputs": [],
   "source": [
    "## 5.Calculate the cumulative sum of precipitation for each soil type.\n",
    "\n",
    "\n",
    "## MY CODE\n",
    "\n",
    "# Create DataFrame from the list of dictionaries\n",
    "df = pd.DataFrame(farms)\n",
    "\n",
    "\n",
    "# Calculate the cumulative sum of precipitation for each soil type\n",
    "cumulative_precipitation_by_soil_type = df.groupby('soil_type')['precipitation'].cumsum()\n",
    "df['cumulative_precipitation'] = cumulative_precipitation_by_soil_type\n",
    "print(df)"
   ]
  },
  {
   "cell_type": "code",
   "execution_count": null,
   "id": "b8bab733",
   "metadata": {},
   "outputs": [],
   "source": [
    "# 6. Determine the top 3 farms with the highest average temperature.\n",
    "\n",
    "## MY CODE\n",
    "\n",
    "# Create DataFrame from the list of dictionaries\n",
    "df = pd.DataFrame(farms)\n",
    "\n",
    "# Calculate the average temperature for each farm\n",
    "average_temp_by_farm = df.groupby('farm_name')['temperature'].mean()\n",
    "\n",
    "#sorting farm details in Ascending order\n",
    "sorted_farms_by_temp = average_temp_by_farm.sort_values(ascending=False)\n",
    "\n",
    "#top_3_farms = sorted_farms_by_temp.head(3)\n",
    "\n",
    "print(sorted_farms_by_temp.head(3))\n",
    "\n"
   ]
  },
  {
   "cell_type": "code",
   "execution_count": null,
   "id": "f180e644",
   "metadata": {},
   "outputs": [],
   "source": [
    "# 7.Find famrs in each soil type that have the highest temperature.\n",
    "\n",
    "## MY CODE\n",
    "\n",
    "# Create DataFrame from the list of dictionaries\n",
    "df = pd.DataFrame(farms)\n",
    "\n",
    "#sorted_df = df.sort_values(by='temperature', ascending=True\n",
    "\n",
    "max_temp_by_soil_type = df.groupby('soil_type', dropna=False)['temperature'].idxmax()\n",
    "farms_with_highest_temp = df.loc[max_temp_by_soil_type]\n",
    "farms_with_highest_temp_sorted = farms_with_highest_temp.sort_values(by='temperature', ascending=False)\n",
    "\n",
    "print(farms_with_highest_temp_sorted)\n"
   ]
  },
  {
   "cell_type": "code",
   "execution_count": null,
   "id": "02893c06",
   "metadata": {},
   "outputs": [],
   "source": [
    "# 8. Create new column 'percentage_tot_prec' and add the percentage contribution of each farm's precipitation \n",
    "#(relative to total precipitation) to the column.\n",
    "\n",
    "## MY CODE\n",
    "\n",
    "# Create DataFrame from the list of dictionaries\n",
    "df = pd.DataFrame(farms)\n",
    "total_precipitation = df['precipitation'].sum()\n",
    "df['percentage_tot_prec'] = (df['precipitation'] / total_precipitation) * 100\n",
    "print(df)"
   ]
  },
  {
   "cell_type": "code",
   "execution_count": null,
   "id": "7c043a18",
   "metadata": {},
   "outputs": [],
   "source": [
    "# 9. Create a new column called \"precipitation_rank\" that ranks the farms based on their precipitation in ascending order, \n",
    "# with ties being assigned the same rank.\n",
    "\n",
    "## MY CODE\n",
    "# Create DataFrame from the list of dictionaries\n",
    "df = pd.DataFrame(farms)\n",
    "\n",
    "df['precipitation_rank'] = df['precipitation'].rank(method='min')\n",
    "\n",
    "print(df)\n"
   ]
  },
  {
   "cell_type": "code",
   "execution_count": null,
   "id": "efb06532",
   "metadata": {},
   "outputs": [],
   "source": [
    "# 10. Normalize the temperature column to a range between 0 and 1 for each farm.\n",
    "\n",
    "## MY CODE\n",
    "# Create DataFrame from the list of dictionaries\n",
    "df = pd.DataFrame(farms)\n",
    "# Find minimum and maximum temperature\n",
    "min_temp = df['temperature'].min()\n",
    "max_temp = df['temperature'].max()\n",
    "\n",
    "# Normalize the temperature column\n",
    "df['normalized_temperature'] = (df['temperature'] - min_temp) / (max_temp - min_temp)\n",
    "\n",
    "print(df)\n"
   ]
  },
  {
   "cell_type": "code",
   "execution_count": null,
   "id": "2f0b0eb2",
   "metadata": {},
   "outputs": [],
   "source": [
    "#11. ETL\n",
    "# Change column types accordingly.\n",
    "\n",
    "\n",
    "## MY CODE\n",
    "# Create DataFrame from the list of dictionaries\n",
    "df = pd.DataFrame(farms)\n",
    "\n",
    "print(df.dtypes)\n",
    "\n",
    "# to String\n",
    "df['farm_name'] = df['farm_name'].astype('string')\n",
    "df['soil_type'] = df['soil_type'].astype('string')\n",
    "\n",
    "# to float\n",
    "df['farm_lon'] = df['farm_lon'].astype(float)\n",
    "df['farm_lat'] = df['farm_lat'].astype(float)\n",
    "\n",
    "\n",
    "df['temperature'] = df['temperature'].astype(float)\n",
    "df['precipitation'] = df['precipitation'].astype(float)\n",
    "\n",
    "\n",
    "# Display the DataFrame with updated column types\n",
    "print(df.dtypes)\n"
   ]
  },
  {
   "cell_type": "code",
   "execution_count": null,
   "id": "21e1adb3",
   "metadata": {},
   "outputs": [],
   "source": [
    "# 12. EDA\n",
    "# Find missing values and give information how would you handle them\n",
    "\n",
    "## MY CODE\n",
    "# Create DataFrame from the list of dictionaries\n",
    "df = pd.DataFrame(farms)\n",
    "\n",
    "df.info()"
   ]
  },
  {
   "cell_type": "code",
   "execution_count": 2,
   "id": "2a7fc81f",
   "metadata": {},
   "outputs": [
    {
     "data": {
      "image/png": "[encoded data removed]",
      "text/plain": [
       "<Figure size 640x480 with 1 Axes>"
      ]
     },
     "metadata": {},
     "output_type": "display_data"
    }
   ],
   "source": [
    "# 13. Find outliers if there is any how would you handle them\n",
    "\n",
    "# Outlier analysis\n",
    "df.drop(columns=['farm_lon', 'farm_lat']).boxplot();\n"
   ]
  },
  {
   "cell_type": "code",
   "execution_count": 3,
   "id": "6cfbbde9",
   "metadata": {},
   "outputs": [
    {
     "data": {
      "image/png": "[encoded data removed]",
      "text/plain": [
       "<Figure size 640x480 with 1 Axes>"
      ]
     },
     "metadata": {},
     "output_type": "display_data"
    }
   ],
   "source": [
    "# 14. Find descriptive statistics for relavant columns and plot them by using bars.\n",
    "#Farm data\n",
    "Import import matplotlib.pyplot as plt\n",
    "df.drop(columns=['farm_lon', 'farm_lat']).describe().T\\\n",
    "    .drop(columns='count')\\\n",
    "    .plot(kind='bar')\n",
    "plt.title('Descriptive Statistics', color='green', fontsize=16)\n",
    "plt.xlabel('Weather', color='green',fontsize=14)\n",
    "plt.ylabel('Values', color='green', fontsize=14)\n",
    "plt.xticks(color='red', fontsize=11)\n",
    "plt.yticks(color='red')\n",
    "plt.tight_layout()\n",
    "plt.show()"
   ]
  },
  {
   "cell_type": "code",
   "execution_count": 3,
   "id": "e055a599",
   "metadata": {},
   "outputs": [
    {
     "data": {
      "image/png": "[encoded data removed]",
      "text/plain": [
       "<Figure size 640x480 with 2 Axes>"
      ]
     },
     "metadata": {},
     "output_type": "display_data"
    }
   ],
   "source": [
    "# 15. Plot the distribution of relevant columns.\n",
    "df[['temperature','precipitation']].hist(bins=10);\n"
   ]
  },
  {
   "cell_type": "code",
   "execution_count": null,
   "id": "1fa3c68d",
   "metadata": {},
   "outputs": [],
   "source": []
  },
  {
   "cell_type": "code",
   "execution_count": null,
   "id": "47abe938",
   "metadata": {},
   "outputs": [],
   "source": []
  }
 ],
 "metadata": {
  "kernelspec": {
   "display_name": "Python 3 (ipykernel)",
   "language": "python",
   "name": "python3"
  },
  "language_info": {
   "codemirror_mode": {
    "name": "ipython",
    "version": 3
   },
   "file_extension": ".py",
   "mimetype": "text/x-python",
   "name": "python",
   "nbconvert_exporter": "python",
   "pygments_lexer": "ipython3",
   "version": "3.11.5"
  }
 },
 "nbformat": 4,
 "nbformat_minor": 5
}
