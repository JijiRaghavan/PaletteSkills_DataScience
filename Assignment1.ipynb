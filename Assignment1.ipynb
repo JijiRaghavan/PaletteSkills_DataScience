{
 "cells": [
  {
   "cell_type": "code",
   "execution_count": 1,
   "id": "ff520e06",
   "metadata": {},
   "outputs": [
    {
     "name": "stdout",
     "output_type": "stream",
     "text": [
      "Assignment 1: Solutions by John\n",
      "Local Time: 2024-02-04 13:57:12\n",
      "Computer ID: hp_laptop\n"
     ]
    }
   ],
   "source": [
    "import datetime\n",
    "import socket\n",
    "\n",
    "# Get local time\n",
    "local_time = datetime.datetime.now().strftime(\"%Y-%m-%d %H:%M:%S\")\n",
    "\n",
    "# Get computer ID or hostname\n",
    "computer_id = socket.gethostname()\n",
    "\n",
    "# Print output with local time and computer ID\n",
    "print('Assignment 1: Solutions by John') # Please change your name here\n",
    "print('Local Time:', local_time)\n",
    "print('Computer ID:', computer_id)"
   ]
  },
  {
   "cell_type": "code",
   "execution_count": 4,
   "id": "5c7244ae",
   "metadata": {},
   "outputs": [
    {
     "name": "stdout",
     "output_type": "stream",
     "text": [
      "Enter a cropname: wheat\n",
      "You entered: wheat\n",
      "Capitalized name: WHEAT\n"
     ]
    }
   ],
   "source": [
    "# Assignment 1\n",
    "# Exercise 1: String Manipulation\n",
    "# Develop a function that accepts a string parameter indicating a crop name and gives back the crop name in capital letters. Hints: str, upper(), def\n",
    "\n",
    "def capitalize_crop_name(cropname):\n",
    "    capital_name = cropname.upper()\n",
    "    return capital_name\n",
    "\n",
    "cropname_input = input(\"Enter a cropname: \")\n",
    "capital_cropname = capitalize_crop_name(cropname_input)\n",
    "print(\"User entered name:\", cropname_input)\n",
    "print(\"Capitalized name:\", capital_cropname)\n"
   ]
  },
  {
   "cell_type": "code",
   "execution_count": 10,
   "id": "824e2c61",
   "metadata": {},
   "outputs": [
    {
     "name": "stdout",
     "output_type": "stream",
     "text": [
      "Crop list is: ['lentil', 'barley', 'canola', 'spring wheat', 'durum wheat', 'oats', 'alfalfa', 'test']\n",
      "Number of crops in the list: 8\n"
     ]
    }
   ],
   "source": [
    "# Exercise 2: Crop Count\n",
    "# Create a function that receives a list of crop names (lentil, barley, canola, spring wheat, durum wheat, oats, alfalfa) \n",
    "# and outputs the total number of crops. Hints: list, length, def.\n",
    "\n",
    "def crop_list(crop_names):\n",
    "    total_crops = len(crop_names)\n",
    "    return total_crops\n",
    "\n",
    "crop_names = ['lentil', 'barley', 'canola', 'spring wheat', 'durum wheat', 'oats', 'alfalfa','test']\n",
    "total_crop_count = crop_list(crop_names)\n",
    "\n",
    "print(\"Crop list is:\", crop_names)\n",
    "print(\"Number of crops in the list:\", total_crop_count)\n"
   ]
  },
  {
   "cell_type": "code",
   "execution_count": 22,
   "id": "d2714472",
   "metadata": {},
   "outputs": [
    {
     "name": "stdout",
     "output_type": "stream",
     "text": [
      "Enter temperature in Celsius: 32\n",
      "Temperature in Fahrenheit :  89.6\n"
     ]
    }
   ],
   "source": [
    "# Exercise 3: Temperature Conversion\n",
    "# Create a function that takes a temperature in Celsius and converts it to Fahrenheit. Return the converted temperature. \n",
    "# Keys:def, find converter.\n",
    "\n",
    "def to_fahrenheit(temp_celsius):\n",
    "    fahrenheit = (temp_celsius * 9/5) + 32\n",
    "    return fahrenheit\n",
    "\n",
    "celsius= float(input(\"Enter temperature in Celsius: \"))\n",
    "temp_fahrenheit = to_fahrenheit(celsius)\n",
    "print(\"Temperature in Fahrenheit : \" ,temp_fahrenheit)\n",
    "        "
   ]
  },
  {
   "cell_type": "code",
   "execution_count": 29,
   "id": "6d0a4009",
   "metadata": {},
   "outputs": [
    {
     "name": "stdout",
     "output_type": "stream",
     "text": [
      "Enter canola yield in bushels :46\n",
      "Canola yield evaluation : Medium yield\n"
     ]
    }
   ],
   "source": [
    "# Exercise 4: Crop Harvest\n",
    "# Create a function that takes the yield of canola crop (in bushels) and returns a string indicating whether \n",
    "# it's a high, moderate, or low yield. Keys: strings, if-else, print()\n",
    "\n",
    "def canola_yield(crop_in_bushels):\n",
    "    if(crop_in_bushels > 50):\n",
    "        return \"High yield\"\n",
    "    elif(crop_in_bushels < 50 and crop_in_bushels >=25):\n",
    "        return \"Medium yield\"\n",
    "    else:\n",
    "        return \"Low Yield\"\n",
    "        \n",
    "crop_in_bushels=float(input(\"Enter canola yield in bushels :\"))\n",
    "yield_evaluation=canola_yield(crop_in_bushels)\n",
    "print(\"Canola yield evaluation :\", yield_evaluation)\n",
    "      "
   ]
  },
  {
   "cell_type": "code",
   "execution_count": 32,
   "id": "b1e320a8",
   "metadata": {},
   "outputs": [
    {
     "name": "stdout",
     "output_type": "stream",
     "text": [
      " Wheat yield [40, 50, 60, 70, 40, 60]\n",
      "Average wheat yield : 53.333333333333336\n"
     ]
    }
   ],
   "source": [
    "# Exercise 5: Crop Average\n",
    "# Create a function that takes a list of crop yields (spring wheat) and returns the average yield. \n",
    "# Keys: list, average() or arithmetic average.\n",
    "\n",
    "def calculate_average_yield(wheat_yield):\n",
    "    total_yield = sum(wheat_yield)\n",
    "    average_yield=total_yield/len(wheat_yield)\n",
    "    return average_yield\n",
    "\n",
    "wheat_yield =[40, 50, 60,70, 40, 60]                           \n",
    "average_yield=calculate_average_yield(wheat_yield)\n",
    "print(\" Wheat yield\" , wheat_yield)\n",
    "print(\"Average wheat yield :\", average_yield)"
   ]
  },
  {
   "cell_type": "code",
   "execution_count": 38,
   "id": "bf36c761",
   "metadata": {},
   "outputs": [
    {
     "name": "stdout",
     "output_type": "stream",
     "text": [
      "Enter soil type: black\n",
      "The recommended crop for black soil is: oats\n"
     ]
    }
   ],
   "source": [
    "# Exercise 6: Crop Recommendation\n",
    "# Create a function that takes the type of soil (brown, dark brown, black) as a parameter and \n",
    "# returns a recommended crop (lentil, canola, oats) for that soil type. Keys: dict, def\n",
    "    \n",
    "def crop_recommendation(soil_type):\n",
    "    soil_crop_map = {\n",
    "        \"brown\": \"lentil\",\n",
    "        \"dark_brown\": \"canola\",\n",
    "        \"black\": \"oats\"\n",
    "    }\n",
    "    recommended_crop = soil_crop_map.get(soil_type.lower(), \" \")\n",
    "    return recommended_crop\n",
    "\n",
    "soiltype_userinput = input(\"Enter soil type: \")\n",
    "recommended_crop = crop_recommendation(soiltype_userinput)\n",
    "print(f\"The recommended crop for {soiltype_userinput} soil is: {recommended_crop}\")\n",
    " "
   ]
  },
  {
   "cell_type": "code",
   "execution_count": 40,
   "id": "c773132a",
   "metadata": {},
   "outputs": [
    {
     "name": "stdout",
     "output_type": "stream",
     "text": [
      "Original crop list is: ['lentil', 'barley', 'canola', 'spring wheat', 'durum wheat', 'oats']\n",
      "Rotated crop list is: ['oats', 'lentil', 'barley', 'canola', 'spring wheat', 'durum wheat']\n"
     ]
    }
   ],
   "source": [
    "# Exercise 7: Crop Rotation\n",
    "# Create a function that takes a list of crop names (lentil, barly, canola, spring wheat, durum wheat, oats) \n",
    "# and rotates the crops by moving the last crop to the beginning of the list. Keys: list and list index, def.\n",
    "\n",
    "def rotatecrop(original_crop_list):\n",
    "    temp1 = original_crop_list[:len(original_crop_list)-1]\n",
    "    temp2 = original_crop_list[len(original_crop_list)-1:]\n",
    "    temp2.extend(temp1)\n",
    "    rotated_crop_list = temp2\n",
    "    return rotated_crop_list\n",
    "\n",
    "original_crop_list = ['lentil', 'barley', 'canola', 'spring wheat', 'durum wheat', 'oats']\n",
    "print(\"Original crop list is: \" + str(original_crop_list))\n",
    "rotated_crop_list = rotatecrop(original_crop_list)\n",
    "print(\"Rotated crop list is: \" + str(rotated_crop_list))"
   ]
  },
  {
   "cell_type": "code",
   "execution_count": 43,
   "id": "ece09d91",
   "metadata": {},
   "outputs": [
    {
     "name": "stdout",
     "output_type": "stream",
     "text": [
      "Original list: [15, 7, 23, 9, 31, 14, 28, 5, -3]\n",
      "Minimum value: -3\n",
      "Maximum value: 31\n"
     ]
    }
   ],
   "source": [
    "# Exercise 8: Rainfall Analysis\n",
    "# Create a function that takes a list of rainfall measurements (daily mm in a week) and \n",
    "# returns the maximum and minimum rainfall values. Keys: min(), max(), lists, def\n",
    "\n",
    "def find_min_max(numbers):\n",
    "    min_value = min(numbers)\n",
    "    max_value = max(numbers)\n",
    "    return min_value, max_value\n",
    "\n",
    "number_list = [15, 7, 23, 9, 31, 14, 28, 5, -3]\n",
    "min_value, max_value = find_min_max(number_list)\n",
    "\n",
    "print(\"Original list:\", number_list)\n",
    "print(\"Minimum value:\", min_value)\n",
    "print(\"Maximum value:\", max_value)\n"
   ]
  },
  {
   "cell_type": "code",
   "execution_count": 51,
   "id": "5ca3e114",
   "metadata": {},
   "outputs": [
    {
     "name": "stdout",
     "output_type": "stream",
     "text": [
      "Enter the count of pests detected in the field: 60\n",
      "Pest Control Recommendation: High pest count. Implement immediate pest control measures, consult with experts.\n"
     ]
    }
   ],
   "source": [
    "# Exercise 9: Pest Control\n",
    "# Create a function that takes the count of pests detected in a field and returns a recommendation for pest control \n",
    "# based on the count. Please search for pests and pest control measures. Keys: if-else statement, def\n",
    "\n",
    "def pest_control_recommendation(pest_count):\n",
    "    if pest_count == 0:\n",
    "        return \"No pests detected !! No pest control measures needed.\"\n",
    "    elif (pest_count <= 10 and pest_count >=0):\n",
    "        return \"Low pest count. Try to use natural or biological controls. Moniter the situation closely.\"\n",
    "    elif (pest_count <= 50 and pest_count >=11):\n",
    "        return \"Moderate pest count. Consider chemical or integrated pest management methods.\"\n",
    "    else:\n",
    "        return \"High pest count. Implement immediate pest control measures, consult with experts.\"\n",
    "\n",
    "detected_pest_count = int(input(\"Enter the count of pests detected in the field: \"))\n",
    "recommendation = pest_control_recommendation(detected_pest_count)\n",
    "\n",
    "print(\"Pest Control Recommendation:\", recommendation)\n"
   ]
  },
  {
   "cell_type": "code",
   "execution_count": 3,
   "id": "84f15a11",
   "metadata": {},
   "outputs": [
    {
     "name": "stdout",
     "output_type": "stream",
     "text": [
      "Enter a list of weed names separated by space: thistle\n",
      "Weed Names: ['thistle']\n",
      "Herbicide Suggestions:\n",
      "- thistle: Triclopyr, Dicamba\n"
     ]
    }
   ],
   "source": [
    "# Exercise 10: Weed Control\n",
    "# Create a function that takes a list of weed names (search online) and suggests appropriate herbicides for weed control. \n",
    "# Keys: For Loops and dictionary.\n",
    "\n",
    "def weed_control_suggestion(weed_names):\n",
    "    herbicide_suggestion = {\n",
    "        \"dandelion\": \"2,4-D, glyphosate\",\n",
    "        \"crabgrass\": \"Quinclorac, Dithiopyr\",\n",
    "        \"bindweed\": \"Glyphosate, Dicamba\",\n",
    "        \"thistle\": \"Triclopyr, Dicamba\",\n",
    "    }\n",
    "    suggestions = {weed: herbicide_suggestion.get(weed.lower(), \"No specific recommendation found.\") for weed in weed_names}\n",
    "    return suggestions\n",
    "\n",
    "weed_names_input = input(\"Enter a list of weed names separated by space: \")\n",
    "weed_names_list = [weed.strip() for weed in weed_names_input.split(' ')]\n",
    "\n",
    "print(\"Weed Names:\", weed_names_list)\n",
    "\n",
    "herbicide_suggestions = weed_control_suggestion(weed_names_list)\n",
    "\n",
    "print(\"Herbicide Suggestions:\")\n",
    "for weed, herbicide in herbicide_suggestions.items():\n",
    "    print(f\"- {weed}: {herbicide}\")\n"
   ]
  },
  {
   "cell_type": "code",
   "execution_count": null,
   "id": "6db50540",
   "metadata": {},
   "outputs": [],
   "source": []
  }
 ],
 "metadata": {
  "kernelspec": {
   "display_name": "Python 3 (ipykernel)",
   "language": "python",
   "name": "python3"
  },
  "language_info": {
   "codemirror_mode": {
    "name": "ipython",
    "version": 3
   },
   "file_extension": ".py",
   "mimetype": "text/x-python",
   "name": "python",
   "nbconvert_exporter": "python",
   "pygments_lexer": "ipython3",
   "version": "3.11.5"
  }
 },
 "nbformat": 4,
 "nbformat_minor": 5
}
